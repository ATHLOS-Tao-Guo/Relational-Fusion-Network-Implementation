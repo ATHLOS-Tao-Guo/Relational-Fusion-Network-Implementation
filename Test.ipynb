{
 "cells": [
  {
   "cell_type": "markdown",
   "metadata": {},
   "source": [
    "# How to Test Relational Fusion Network and Basline Algorithms"
   ]
  },
  {
   "cell_type": "code",
   "execution_count": 1,
   "metadata": {},
   "outputs": [],
   "source": [
    "%load_ext autoreload\n",
    "%autoreload 2"
   ]
  },
  {
   "cell_type": "markdown",
   "metadata": {},
   "source": [
    "### Test\n",
    "First, define test city sets."
   ]
  },
  {
   "cell_type": "code",
   "execution_count": 2,
   "metadata": {},
   "outputs": [],
   "source": [
    "# train_cities = [\"busan\", \"daejeon\", \"goyang\", \"gwangju\", \"incheon\", \"changwon\", \"seongnam\", \"cheongju\"]\n",
    "test_cities = [\"daegu\", \"suwon\", \"ulsan\", \"yongin\"]"
   ]
  },
  {
   "cell_type": "markdown",
   "metadata": {},
   "source": [
    "Then define models to test. We used 4 RFN vaiations and 4 baseline models(GAT, GCB, GraphSAGE and MLP)."
   ]
  },
  {
   "cell_type": "code",
   "execution_count": 3,
   "metadata": {},
   "outputs": [
    {
     "name": "stderr",
     "output_type": "stream",
     "text": [
      "Using backend: pytorch\n"
     ]
    }
   ],
   "source": [
    "from custom.rfn_trainer import RFNTrainer\n",
    "from custom.gcn_trainer import GCNTrainer\n",
    "from custom.mlp_trainer import MLPTrainer\n",
    "from custom.utils import * \n",
    "\n",
    "# RFN models\n",
    "rfn_trainer_ia = RFNTrainer(fusion='interactional', aggregator='attentional')\n",
    "rfn_trainer_in = RFNTrainer(fusion='interactional', aggregator='non-attentional')\n",
    "rfn_trainer_aa = RFNTrainer(fusion='additive', aggregator='attentional')\n",
    "rfn_trainer_an = RFNTrainer(fusion='additive', aggregator='non-attentional')\n",
    "\n",
    "# Baseline models\n",
    "gcn_trainer_gat = GCNTrainer(\"gat\")\n",
    "gcn_trainer_gcn = GCNTrainer(\"gcn\")\n",
    "gcn_trainer_gsg = GCNTrainer(\"graphsage\")\n",
    "mlp_trainer = MLPTrainer()\n",
    "\n",
    "\n",
    "rfn_models = [rfn_trainer_ia, rfn_trainer_in, rfn_trainer_aa, rfn_trainer_an]\n",
    "baseline_models = [gcn_trainer_gat, gcn_trainer_gcn, gcn_trainer_gsg, mlp_trainer]\n",
    "target_models = rfn_models + baseline_models"
   ]
  },
  {
   "cell_type": "markdown",
   "metadata": {},
   "source": [
    "Add city information to trainer. Note that MXNet is used for RFN while dgl+PyTorch is used for the rest."
   ]
  },
  {
   "cell_type": "code",
   "execution_count": 4,
   "metadata": {},
   "outputs": [
    {
     "name": "stdout",
     "output_type": "stream",
     "text": [
      "[41134, 35295, 53753, 34446]\n",
      "Primal V,E: (18339, 52910), Dual V,E: (52910, 164628)\n",
      "[17056, 14445, 21915, 14132]\n",
      "Primal V,E: (7162, 21254), Dual V,E: (21254, 67548)\n",
      "[20713, 17365, 27460, 17380]\n",
      "Primal V,E: (8822, 26070), Dual V,E: (26070, 82918)\n",
      "[11159, 7614, 15077, 7594]\n",
      "Primal V,E: (5659, 14447), Dual V,E: (14447, 41444)\n"
     ]
    }
   ],
   "source": [
    "for city_name in test_cities:\n",
    "    G = load_city_graph(city_name)\n",
    "    rfn_city, dgl_city = generate_required_city_graph(city_name, G)\n",
    "    for t in target_models:\n",
    "        if isinstance(t, RFNTrainer):\n",
    "            t.add_city(rfn_city, train=False)\n",
    "        else:\n",
    "            t.add_city(dgl_city, train=False)"
   ]
  },
  {
   "cell_type": "markdown",
   "metadata": {},
   "source": [
    "Now build network and load data."
   ]
  },
  {
   "cell_type": "code",
   "execution_count": 5,
   "metadata": {},
   "outputs": [
    {
     "name": "stdout",
     "output_type": "stream",
     "text": [
      "FeatureInfo(no_node_features=2, no_edge_features=16, no_between_edge_features=4)\n",
      "FeatureInfo(no_node_features=2, no_edge_features=16, no_between_edge_features=4)\n",
      "FeatureInfo(no_node_features=2, no_edge_features=16, no_between_edge_features=4)\n",
      "FeatureInfo(no_node_features=2, no_edge_features=16, no_between_edge_features=4)\n"
     ]
    }
   ],
   "source": [
    "load_data_folder = 'model_data/20200619_182329'\n",
    "for t in target_models:\n",
    "    t.build()\n",
    "    t.load_params(\"%s/%s\" % (load_data_folder, t.name))"
   ]
  },
  {
   "cell_type": "markdown",
   "metadata": {},
   "source": [
    "Test on each road networks."
   ]
  },
  {
   "cell_type": "code",
   "execution_count": 9,
   "metadata": {
    "scrolled": true
   },
   "outputs": [],
   "source": [
    "test_results = {}\n",
    "for t in target_models:\n",
    "    test_results[t.name] = t.test(verbose = False)"
   ]
  },
  {
   "cell_type": "markdown",
   "metadata": {},
   "source": [
    "Now print results."
   ]
  },
  {
   "cell_type": "code",
   "execution_count": 10,
   "metadata": {},
   "outputs": [
    {
     "name": "stdout",
     "output_type": "stream",
     "text": [
      "                daegu     suwon     ulsan    yongin\n",
      "rfn_int_att  0.013797  0.006467  0.017539  0.008208\n",
      "rfn_int_non  0.017247  0.012515  0.019019  0.028123\n",
      "rfn_add_att  0.015978  0.010970  0.019676  0.028279\n",
      "rfn_add_non  0.015818  0.010134  0.019537  0.029834\n",
      "gat          0.041885  0.027642  0.037875  0.052309\n",
      "gcn          0.046810  0.035997  0.045919  0.065880\n",
      "graphsage    0.044869  0.032357  0.031119  0.044752\n",
      "mlp          0.025466  0.012247  0.022358  0.014048\n"
     ]
    }
   ],
   "source": [
    "a = pd.DataFrame.from_dict(test_results)\n",
    "print(a.transpose())"
   ]
  },
  {
   "cell_type": "markdown",
   "metadata": {},
   "source": [
    "## References\n",
    "[1]: Tobias Skovgaard Jepsen, Christian S. Jensen, and Thomas Dyhre Nielsen.  \"Graph Convolutional Networks for Road Networks.\" In _27th ACM SIGSPATIAL International Conference on Advances in Geographic Information Systems (SIGSPATIAL ’19)_. 2019.\n",
    "\n",
    "[2]: Tobias Skovgaard Jepsen, Christian S. Jensen, and Thomas Dyhre Nielsen. \"Graph Convolutional Networks for Road Networks.\" _arXiv e-prints_, arXiv:1908.11567. 2019.\n",
    "\n",
    "[3]: Hamilton, Will, Zhitao Ying, and Jure Leskovec. \"Inductive representation learning on large graphs.\" _Advances in Neural Information Processing Systems_. 2017."
   ]
  }
 ],
 "metadata": {
  "kernelspec": {
   "display_name": "roadnetwork",
   "language": "python",
   "name": "roadnetwork"
  },
  "language_info": {
   "codemirror_mode": {
    "name": "ipython",
    "version": 3
   },
   "file_extension": ".py",
   "mimetype": "text/x-python",
   "name": "python",
   "nbconvert_exporter": "python",
   "pygments_lexer": "ipython3",
   "version": "3.7.6"
  }
 },
 "nbformat": 4,
 "nbformat_minor": 2
}
